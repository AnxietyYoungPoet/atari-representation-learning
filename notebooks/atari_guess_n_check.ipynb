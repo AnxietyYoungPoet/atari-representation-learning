{
 "cells": [
  {
   "cell_type": "markdown",
   "metadata": {},
   "source": [
    "### 1. Import This Stuff"
   ]
  },
  {
   "cell_type": "code",
   "execution_count": null,
   "metadata": {},
   "outputs": [],
   "source": [
    "import gym\n",
    "import matplotlib.pyplot as plt\n",
    "%matplotlib inline\n",
    "import numpy as np\n",
    "\n",
    "def step(action, num_steps=1):\n",
    "    e =env.unwrapped\n",
    "    actions_meanings = e.get_action_meanings()\n",
    "#     print(actions_meanings)\n",
    "    act_dict = {actions_meanings[i].lower():i for i in range(len(actions_meanings))}\n",
    "    \n",
    "    a = act_dict[action]\n",
    "    for i in range(num_steps):\n",
    "        env.step(a)\n",
    "\n",
    "def printinds(inds,name=\"\"):\n",
    "    print(name,\": [\",\", \".join([\"%3i\"%(i) for i in inds]),\"]\") \n",
    "    "
   ]
  },
  {
   "cell_type": "markdown",
   "metadata": {},
   "source": [
    "### 2. Pick Game"
   ]
  },
  {
   "cell_type": "code",
   "execution_count": null,
   "metadata": {},
   "outputs": [],
   "source": [
    "env = gym.make(\"PrivateEyeNoFrameskip-v4\")\n",
    "env.reset();"
   ]
  },
  {
   "cell_type": "markdown",
   "metadata": {},
   "source": [
    "### 3. Render The Game"
   ]
  },
  {
   "cell_type": "markdown",
   "metadata": {},
   "source": [
    "On Macs this will open a separate window with the game. Try to get this window split-screened with this notebook."
   ]
  },
  {
   "cell_type": "code",
   "execution_count": null,
   "metadata": {},
   "outputs": [],
   "source": [
    "env.render(\"human\")"
   ]
  },
  {
   "cell_type": "markdown",
   "metadata": {},
   "source": [
    "### 4. Pick RAM Bytes to Ignore "
   ]
  },
  {
   "cell_type": "markdown",
   "metadata": {},
   "source": [
    "##### Change this cell to ignore bytes that aren't afftected by actions"
   ]
  },
  {
   "cell_type": "code",
   "execution_count": null,
   "metadata": {},
   "outputs": [],
   "source": [
    "bytes_to_ignore = []"
   ]
  },
  {
   "cell_type": "markdown",
   "metadata": {},
   "source": [
    "##### Change this cell if you just want to look at a single RAM bytes value (like checking if the spreadsheet is correct"
   ]
  },
  {
   "cell_type": "code",
   "execution_count": null,
   "metadata": {},
   "outputs": [],
   "source": [
    "bytes_to_print_alone = [  ]"
   ]
  },
  {
   "cell_type": "markdown",
   "metadata": {},
   "source": [
    "### 5.  Repeat the Below Cell To Step Through The Game"
   ]
  },
  {
   "cell_type": "markdown",
   "metadata": {},
   "source": [
    "1. First pick ```action = \"noop\", num_times = 1``` a few times to see what RAM Byte Inds Change\n",
    "2. Set bytes_to_ignore to those values\n",
    "3. Now doing a noop should show no RAM bytes changing\n",
    "4. Now try controlling the agent with \"right\", \"left\", and \"fire\"\n",
    "5. See what RAM values change (those are probabaly the agents position"
   ]
  },
  {
   "cell_type": "markdown",
   "metadata": {},
   "source": [
    "##### Modify this cell"
   ]
  },
  {
   "cell_type": "code",
   "execution_count": null,
   "metadata": {},
   "outputs": [],
   "source": [
    "env.reset();"
   ]
  },
  {
   "cell_type": "code",
   "execution_count": null,
   "metadata": {},
   "outputs": [],
   "source": [
    "action = \"fire\"\n",
    "num_times = 10"
   ]
  },
  {
   "cell_type": "markdown",
   "metadata": {},
   "source": [
    "##### Then run this cell (run it 3 or 4 times first to get the human rendering to reach half-screen)"
   ]
  },
  {
   "cell_type": "code",
   "execution_count": null,
   "metadata": {},
   "outputs": [],
   "source": [
    "inds = np.arange(128)\n",
    "if len(bytes_to_print_alone) > 0:\n",
    "    inds = np.asarray(bytes_to_print_alone)\n",
    "else:    \n",
    "    inds = np.delete(inds, bytes_to_ignore)\n",
    "r0 = env.env.ale.getRAM()[inds]\n",
    "step(action, num_times)# change this action\n",
    "env.render(\"human\")\n",
    "r1 = env.env.ale.getRAM()[inds]\n",
    "diff = r1 - r0\n",
    "if len(bytes_to_print_alone) > 0:\n",
    "    i,rb,ra = inds, r0, r1\n",
    "else:\n",
    "    i,rb,ra = inds[diff!=0], r0[diff!=0], r1[diff!=0]\n",
    "printinds(i,name=\"RAM Byte Inds    \") # prints rams that change\n",
    "printinds(rb,  name=\"RAM Values Before\")\n",
    "printinds(ra,  name=\"RAM Values After \")"
   ]
  }
 ],
 "metadata": {
  "kernelspec": {
   "display_name": "Python 3",
   "language": "python",
   "name": "python3"
  },
  "language_info": {
   "codemirror_mode": {
    "name": "ipython",
    "version": 3
   },
   "file_extension": ".py",
   "mimetype": "text/x-python",
   "name": "python",
   "nbconvert_exporter": "python",
   "pygments_lexer": "ipython3",
   "version": "3.7.1"
  }
 },
 "nbformat": 4,
 "nbformat_minor": 2
}
