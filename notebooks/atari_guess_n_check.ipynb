{
 "cells": [
  {
   "cell_type": "code",
   "execution_count": 66,
   "metadata": {},
   "outputs": [],
   "source": [
    "import gym\n",
    "\n",
    "import matplotlib.pyplot as plt\n",
    "%matplotlib inline\n",
    "\n",
    "import numpy as np\n",
    "\n",
    "def step(action, num_steps=1):\n",
    "    for a in range(num_steps):\n",
    "        env.step(action)\n",
    "\n",
    "def all_but(inds, arr, rem):\n",
    "    new_inds\n",
    "    new_arr = [a for i,a in enumerate(arr) if i not in rem]\n",
    "\n",
    "Noop = 0\n",
    "Fire = 1\n",
    "Right = 2\n",
    "Left = 3"
   ]
  },
  {
   "cell_type": "markdown",
   "metadata": {},
   "source": [
    "##### Pick Game"
   ]
  },
  {
   "cell_type": "code",
   "execution_count": 4,
   "metadata": {},
   "outputs": [],
   "source": [
    "env = gym.make(\"MontezumaRevenge-v4\")\n",
    "env.reset();"
   ]
  },
  {
   "cell_type": "markdown",
   "metadata": {},
   "source": [
    "##### On Macs this will open a separate window with the game. Try to get this window split-screened with this notebook."
   ]
  },
  {
   "cell_type": "code",
   "execution_count": 4,
   "metadata": {},
   "outputs": [],
   "source": [
    "env.render(\"human\")"
   ]
  },
  {
   "cell_type": "markdown",
   "metadata": {},
   "source": [
    "##### Repeat the Below Cell To Step Through The Game"
   ]
  },
  {
   "cell_type": "code",
   "execution_count": 65,
   "metadata": {},
   "outputs": [
    {
     "name": "stdout",
     "output_type": "stream",
     "text": [
      "[  0   5   6  47  53  89  90 102 107 109]\n",
      "[208  50 174  22  18  77  18 127  24   0]\n",
      "[212 232  77  23   8   1  19 255  27   2]\n"
     ]
    }
   ],
   "source": [
    "r0 = env.env.ale.getRAM()\n",
    "step(0)  # change this action\n",
    "env.render(\"human\")\n",
    "r1 = env.env.ale.getRAM()\n",
    "diff = r1 - r0\n",
    "print(np.arange(128)[diff!=0]) # prints rams that change\n",
    "print(r0[diff!=0])\n",
    "print(r1[diff!=0])"
   ]
  },
  {
   "cell_type": "markdown",
   "metadata": {},
   "source": [
    "#### Alternative Matplotlib Way of Stepping Through"
   ]
  },
  {
   "cell_type": "code",
   "execution_count": 64,
   "metadata": {},
   "outputs": [],
   "source": [
    "i = 0\n",
    "env.step(1)\n",
    "\n",
    "for j in range(25):\n",
    "    r0 = env.env.ale.getRAM()\n",
    "    if j <= 4:\n",
    "        obs,_,_,_ = env.step(3)\n",
    "    else:\n",
    "        obs,_,_,_ = env.step(2)\n",
    "    r1 = env.env.ale.getRAM()\n",
    "    diff = r1 - r0\n",
    "\n",
    "    diff = diff[None,:]\n",
    "    diff = np.repeat(diff,20,axis=0)\n",
    "\n",
    "\n",
    "    plt.figure(i)\n",
    "    plt.imshow(obs)\n",
    "\n",
    "    plt.figure(i+1)\n",
    "    plt.imshow(diff)\n",
    "    plt.axis(\"on\")\n",
    "    plt.title(str(np.arange(128)[diff[0,:]>0]) + \" \\n\" +  str(r1[diff[0,:]>0]) )\n",
    "    #plt.title(\"90,99,101 | \" + \" \".join([str(r1[90]),str(r1[99]),str(r1[101])]))\n",
    "    #plt.title()\n",
    "\n",
    "    i += 3"
   ]
  },
  {
   "cell_type": "code",
   "execution_count": null,
   "metadata": {},
   "outputs": [],
   "source": []
  }
 ],
 "metadata": {
  "kernelspec": {
   "display_name": "Python 3",
   "language": "python",
   "name": "python3"
  },
  "language_info": {
   "codemirror_mode": {
    "name": "ipython",
    "version": 3
   },
   "file_extension": ".py",
   "mimetype": "text/x-python",
   "name": "python",
   "nbconvert_exporter": "python",
   "pygments_lexer": "ipython3",
   "version": "3.7.1"
  }
 },
 "nbformat": 4,
 "nbformat_minor": 2
}
